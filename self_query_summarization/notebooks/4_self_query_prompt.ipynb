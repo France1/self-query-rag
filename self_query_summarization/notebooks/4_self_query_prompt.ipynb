{
 "cells": [
  {
   "cell_type": "code",
   "execution_count": 1,
   "metadata": {},
   "outputs": [],
   "source": [
    "import sys\n",
    "sys.path.append(\"../../\")\n",
    "\n",
    "import os\n",
    "from dotenv import load_dotenv\n",
    "import json\n",
    "\n",
    "from langchain_openai import OpenAI\n",
    "from langchain.chains import LLMChain\n",
    "from langchain.prompts import PromptTemplate\n",
    "\n",
    "from self_query_summarization.query_constructor.prompt import *"
   ]
  },
  {
   "cell_type": "code",
   "execution_count": 2,
   "metadata": {},
   "outputs": [],
   "source": [
    "load_dotenv()\n",
    "API_KEY = os.getenv(\"OPENAI_API_KEY\")"
   ]
  },
  {
   "cell_type": "code",
   "execution_count": 3,
   "metadata": {},
   "outputs": [],
   "source": [
    "ATTRIBUTES = \"\"\" \n",
    "{\n",
    "    \"attributes\": {\n",
    "        \"year\": {\n",
    "            \"type\": \"integer\",\n",
    "            \"description\": \"The year the movie was released\"\n",
    "        },\n",
    "        \"title\": {\n",
    "            \"type\": \"string\",\n",
    "            \"description\": \"The title of the movie\"\n",
    "        },\n",
    "        \"genre\": {\n",
    "            \"type\": \"string\",\n",
    "            \"description\": \"The genre of the movie in lowercase. It can contains multiple genres\"\"\n",
    "        },\n",
    "        \"director\": {\n",
    "            \"type\": \"string\",\n",
    "            \"description\": \"The name of the movie director. It can be multiple names\"\"\n",
    "        },\n",
    "        \"cast\": {\n",
    "            \"type\": \"string\",\n",
    "            \"description\": \"The name of the actors in the movie\"\"\n",
    "        },\n",
    "        \"country\": {\n",
    "            \"type\": \"string\",\n",
    "            \"description\": \"The country where the movie was produced\"\"\n",
    "        },\n",
    "    }\n",
    "}\n",
    "\"\"\"\n",
    "\n",
    "USER_QUERY = \"Horror movie from the 90s about young people going to vacation on a barren island. One of them, a female artist, has dreams that depict ghastly murders\""
   ]
  },
  {
   "cell_type": "code",
   "execution_count": 28,
   "metadata": {},
   "outputs": [
    {
     "name": "stdout",
     "output_type": "stream",
     "text": [
      "{\n",
      "    \"query\": \"Horror movie from the 90s about young people going to vacation on a barren island having nightmares about murders\",\n",
      "    \"filter\": {\n",
      "        \"$and\": [\n",
      "            {\"year\": {\"$gt\": 1990} },\n",
      "            {\"year\": {\"$lt\": 2000} },\n",
      "            {\"genre\": {\"$in\": [\"horror\"]} }\n",
      "        ]\n",
      "    }\n",
      "}\n",
      "\n"
     ]
    }
   ],
   "source": [
    "llm = OpenAI()\n",
    "\n",
    "final_prompt = get_prompt(ATTRIBUTES, USER_QUERY)\n",
    "\n",
    "\n",
    "results = llm.predict(final_prompt)\n",
    "\n",
    "print(results)"
   ]
  },
  {
   "cell_type": "code",
   "execution_count": 31,
   "metadata": {},
   "outputs": [],
   "source": [
    "results = '{\\n    \"query\": \"Horror movie from the 90s about young people going to vacation on a barren island having nightmares about murders\",\\n    \"filter\": \"test\" }'"
   ]
  },
  {
   "cell_type": "code",
   "execution_count": 32,
   "metadata": {},
   "outputs": [
    {
     "data": {
      "text/plain": [
       "Query(query='Horror movie from the 90s about young people going to vacation on a barren island having nightmares about murders', filter='test')"
      ]
     },
     "execution_count": 32,
     "metadata": {},
     "output_type": "execute_result"
    }
   ],
   "source": [
    "from langchain.output_parsers import PydanticOutputParser\n",
    "from langchain.prompts import PromptTemplate\n",
    "from langchain_core.pydantic_v1 import BaseModel, Field, validator\n",
    "from langchain_openai import OpenAI\n",
    "\n",
    "# Define your desired data structure.\n",
    "class Query(BaseModel):\n",
    "    query: str = Field(description=\"text string to compare to document contents\")\n",
    "    filter: dict = Field(description=\"logical condition statements for filtering documents and metadata\")\n",
    "    \n",
    "    \n",
    "parser = PydanticOutputParser(pydantic_object=Query)\n",
    "\n",
    "parser.invoke(results)"
   ]
  },
  {
   "cell_type": "code",
   "execution_count": null,
   "metadata": {},
   "outputs": [],
   "source": []
  }
 ],
 "metadata": {
  "kernelspec": {
   "display_name": ".venv",
   "language": "python",
   "name": "python3"
  },
  "language_info": {
   "codemirror_mode": {
    "name": "ipython",
    "version": 3
   },
   "file_extension": ".py",
   "mimetype": "text/x-python",
   "name": "python",
   "nbconvert_exporter": "python",
   "pygments_lexer": "ipython3",
   "version": "3.10.6"
  }
 },
 "nbformat": 4,
 "nbformat_minor": 2
}

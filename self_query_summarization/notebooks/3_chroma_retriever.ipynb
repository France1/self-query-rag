{
 "cells": [
  {
   "cell_type": "code",
   "execution_count": 1,
   "metadata": {},
   "outputs": [],
   "source": [
    "import sys\n",
    "sys.path.append(\"../../\")\n",
    "\n",
    "import os\n",
    "from typing import List, Optional, Union\n",
    "from dotenv import load_dotenv\n",
    "import pandas as pd\n",
    "import random\n",
    "from langchain_core.documents import Document\n",
    "\n",
    "import chromadb.utils.embedding_functions as embedding_functions\n",
    "\n",
    "from self_query_summarization.utils.utils import build_path, load_config_yaml\n",
    "from self_query_summarization.dataloader.dataloader import DataLoader\n",
    "from self_query_summarization.retriever.retriever import ChromaRetriever"
   ]
  },
  {
   "cell_type": "markdown",
   "metadata": {},
   "source": [
    "### Settings"
   ]
  },
  {
   "cell_type": "code",
   "execution_count": 192,
   "metadata": {},
   "outputs": [],
   "source": [
    "random.seed(42)\n",
    "\n",
    "load_dotenv()\n",
    "API_KEY = os.getenv(\"OPENAI_API_KEY\")\n",
    "\n",
    "DIR_NAME = 'config'\n",
    "FILE_NAME = 'config.yaml'"
   ]
  },
  {
   "cell_type": "markdown",
   "metadata": {},
   "source": [
    "### Input data"
   ]
  },
  {
   "cell_type": "code",
   "execution_count": 193,
   "metadata": {},
   "outputs": [
    {
     "data": {
      "text/html": [
       "<div>\n",
       "<style scoped>\n",
       "    .dataframe tbody tr th:only-of-type {\n",
       "        vertical-align: middle;\n",
       "    }\n",
       "\n",
       "    .dataframe tbody tr th {\n",
       "        vertical-align: top;\n",
       "    }\n",
       "\n",
       "    .dataframe thead th {\n",
       "        text-align: right;\n",
       "    }\n",
       "</style>\n",
       "<table border=\"1\" class=\"dataframe\">\n",
       "  <thead>\n",
       "    <tr style=\"text-align: right;\">\n",
       "      <th></th>\n",
       "      <th>year</th>\n",
       "      <th>title</th>\n",
       "      <th>director</th>\n",
       "      <th>cast</th>\n",
       "      <th>genre</th>\n",
       "      <th>wiki_page</th>\n",
       "      <th>description</th>\n",
       "      <th>country</th>\n",
       "      <th>id</th>\n",
       "    </tr>\n",
       "  </thead>\n",
       "  <tbody>\n",
       "    <tr>\n",
       "      <th>0</th>\n",
       "      <td>1901</td>\n",
       "      <td>Kansas Saloon Smashers</td>\n",
       "      <td>unknown</td>\n",
       "      <td>unknown</td>\n",
       "      <td>unknown</td>\n",
       "      <td>https://en.wikipedia.org/wiki/Kansas_Saloon_Sm...</td>\n",
       "      <td>A bartender is working at a saloon, serving dr...</td>\n",
       "      <td>United States</td>\n",
       "      <td>0</td>\n",
       "    </tr>\n",
       "    <tr>\n",
       "      <th>1</th>\n",
       "      <td>1901</td>\n",
       "      <td>Love by the Light of the Moon</td>\n",
       "      <td>unknown</td>\n",
       "      <td>unknown</td>\n",
       "      <td>unknown</td>\n",
       "      <td>https://en.wikipedia.org/wiki/Love_by_the_Ligh...</td>\n",
       "      <td>The moon, painted with a smiling face hangs ov...</td>\n",
       "      <td>United States</td>\n",
       "      <td>1</td>\n",
       "    </tr>\n",
       "    <tr>\n",
       "      <th>2</th>\n",
       "      <td>1901</td>\n",
       "      <td>The Martyred Presidents</td>\n",
       "      <td>unknown</td>\n",
       "      <td>unknown</td>\n",
       "      <td>unknown</td>\n",
       "      <td>https://en.wikipedia.org/wiki/The_Martyred_Pre...</td>\n",
       "      <td>The film, just over a minute long, is composed...</td>\n",
       "      <td>United States</td>\n",
       "      <td>2</td>\n",
       "    </tr>\n",
       "    <tr>\n",
       "      <th>3</th>\n",
       "      <td>1901</td>\n",
       "      <td>Terrible Teddy, the Grizzly King</td>\n",
       "      <td>unknown</td>\n",
       "      <td>unknown</td>\n",
       "      <td>unknown</td>\n",
       "      <td>https://en.wikipedia.org/wiki/Terrible_Teddy,_...</td>\n",
       "      <td>Lasting just 61 seconds and consisting of two ...</td>\n",
       "      <td>United States</td>\n",
       "      <td>3</td>\n",
       "    </tr>\n",
       "    <tr>\n",
       "      <th>4</th>\n",
       "      <td>1902</td>\n",
       "      <td>Jack and the Beanstalk</td>\n",
       "      <td>George S. Fleming, Edwin S. Porter</td>\n",
       "      <td>unknown</td>\n",
       "      <td>unknown</td>\n",
       "      <td>https://en.wikipedia.org/wiki/Jack_and_the_Bea...</td>\n",
       "      <td>The earliest known adaptation of the classic f...</td>\n",
       "      <td>United States</td>\n",
       "      <td>4</td>\n",
       "    </tr>\n",
       "  </tbody>\n",
       "</table>\n",
       "</div>"
      ],
      "text/plain": [
       "   year                             title                            director  \\\n",
       "0  1901            Kansas Saloon Smashers                             unknown   \n",
       "1  1901     Love by the Light of the Moon                             unknown   \n",
       "2  1901           The Martyred Presidents                             unknown   \n",
       "3  1901  Terrible Teddy, the Grizzly King                             unknown   \n",
       "4  1902            Jack and the Beanstalk  George S. Fleming, Edwin S. Porter   \n",
       "\n",
       "      cast    genre                                          wiki_page  \\\n",
       "0  unknown  unknown  https://en.wikipedia.org/wiki/Kansas_Saloon_Sm...   \n",
       "1  unknown  unknown  https://en.wikipedia.org/wiki/Love_by_the_Ligh...   \n",
       "2  unknown  unknown  https://en.wikipedia.org/wiki/The_Martyred_Pre...   \n",
       "3  unknown  unknown  https://en.wikipedia.org/wiki/Terrible_Teddy,_...   \n",
       "4  unknown  unknown  https://en.wikipedia.org/wiki/Jack_and_the_Bea...   \n",
       "\n",
       "                                         description        country  id  \n",
       "0  A bartender is working at a saloon, serving dr...  United States   0  \n",
       "1  The moon, painted with a smiling face hangs ov...  United States   1  \n",
       "2  The film, just over a minute long, is composed...  United States   2  \n",
       "3  Lasting just 61 seconds and consisting of two ...  United States   3  \n",
       "4  The earliest known adaptation of the classic f...  United States   4  "
      ]
     },
     "execution_count": 193,
     "metadata": {},
     "output_type": "execute_result"
    }
   ],
   "source": [
    "config_path = build_path(DIR_NAME, FILE_NAME)\n",
    "config = load_config_yaml(config_path)\n",
    "\n",
    "dataloader = DataLoader(config)\n",
    "data = dataloader.transform()\n",
    "\n",
    "data.head()"
   ]
  },
  {
   "cell_type": "markdown",
   "metadata": {},
   "source": [
    "### Initialize ChromaDB"
   ]
  },
  {
   "cell_type": "code",
   "execution_count": 194,
   "metadata": {},
   "outputs": [
    {
     "name": "stdout",
     "output_type": "stream",
     "text": [
      "Deleting collection wiki_movie_plots\n",
      "Creating collection wiki_movie_plots\n"
     ]
    }
   ],
   "source": [
    "DOCUMENT_COLUMN = 'description'\n",
    "METADATA_COLUMNS = ['year', 'title', 'cast', 'genre', 'country']\n",
    "\n",
    "retriever = ChromaRetriever(\n",
    "    document_column = DOCUMENT_COLUMN,\n",
    "    metadata_colums = METADATA_COLUMNS, \n",
    "    collection_name = \"wiki_movie_plots\", \n",
    "    embedding_provider=\"sentence-transformers\"\n",
    ")"
   ]
  },
  {
   "cell_type": "markdown",
   "metadata": {},
   "source": [
    "### Load embedded documents "
   ]
  },
  {
   "cell_type": "code",
   "execution_count": 195,
   "metadata": {},
   "outputs": [
    {
     "name": "stdout",
     "output_type": "stream",
     "text": [
      "Generating embeddings for 1000 documents\n"
     ]
    }
   ],
   "source": [
    "retriever.upload(data, n_samples=1000)"
   ]
  },
  {
   "cell_type": "markdown",
   "metadata": {},
   "source": [
    "### 1. Query documents through DB"
   ]
  },
  {
   "cell_type": "code",
   "execution_count": 206,
   "metadata": {},
   "outputs": [],
   "source": [
    "def show_results(results):\n",
    "    print('\\n'.join([d['title'] for d in results['metadatas'][0]]))"
   ]
  },
  {
   "cell_type": "markdown",
   "metadata": {},
   "source": [
    "##### 1.1 Query by sentence similarity"
   ]
  },
  {
   "cell_type": "code",
   "execution_count": 212,
   "metadata": {},
   "outputs": [
    {
     "name": "stdout",
     "output_type": "stream",
     "text": [
      "length of query_embeddings 384\n",
      "The Slayer\n",
      "Black Moon\n",
      "The Reincarnation of Peter Proud\n",
      "Hide and Seek\n",
      "The Boys\n"
     ]
    }
   ],
   "source": [
    "query_text = \"Four young people vacation on a barren island. One of them, a female artist, has dreams that depict ghastly murders\" # The slayer\n",
    "\n",
    "results = retriever.query(query_text)\n",
    "show_results(results)"
   ]
  },
  {
   "cell_type": "markdown",
   "metadata": {},
   "source": [
    "##### 1.2 Query by metadata"
   ]
  },
  {
   "cell_type": "code",
   "execution_count": 214,
   "metadata": {},
   "outputs": [
    {
     "name": "stdout",
     "output_type": "stream",
     "text": [
      "length of query_embeddings 384\n",
      "Ringmaster\n",
      "Aakhri Cheekh\n",
      "The Birds II: Land's End\n",
      "Hideaway\n",
      "The Midas Touch\n"
     ]
    }
   ],
   "source": [
    "query_text = \"Four young people vacation on a barren island. One of them, a female artist, has dreams that depict ghastly murders\" # The slayer\n",
    "\n",
    "metadata_filter = {\n",
    "    \"$and\": [\n",
    "        {\"year\": {\"$gt\": 1990} },\n",
    "        {\"year\": {\"$lt\": 2000} }\n",
    "    ]\n",
    "}\n",
    "\n",
    "results = retriever.query(query_text, where=metadata_filter)\n",
    "show_results(results)"
   ]
  },
  {
   "cell_type": "markdown",
   "metadata": {},
   "source": [
    "##### 1.3 Query by sentence similarity and metadata"
   ]
  },
  {
   "cell_type": "code",
   "execution_count": 216,
   "metadata": {},
   "outputs": [
    {
     "name": "stdout",
     "output_type": "stream",
     "text": [
      "length of query_embeddings 384\n",
      "The Slayer\n",
      "The Reincarnation of Peter Proud\n",
      "Excision\n"
     ]
    }
   ],
   "source": [
    "query_text = \"Four young people vacation on a barren island. One of them, a female artist, has dreams that depict ghastly murders\" # The slayer\n",
    "metadata_filter = {\"genre\": {\"$in\": [\"horror\"]}}\n",
    "document_filter = {\"$contains\": \"dream\"}\n",
    "\n",
    "results = retriever.query(\n",
    "    query_text, \n",
    "    where = metadata_filter,\n",
    "    where_document = document_filter\n",
    ")\n",
    "show_results(results)"
   ]
  },
  {
   "cell_type": "markdown",
   "metadata": {},
   "source": [
    "### 2. Query documents through Self-Query"
   ]
  },
  {
   "cell_type": "code",
   "execution_count": 227,
   "metadata": {},
   "outputs": [
    {
     "name": "stdout",
     "output_type": "stream",
     "text": [
      "Comic movie from the 60s about young people going to vacation on a barren island having nightmares about murders\n",
      "{'$and': [{'year': {'$gt': 1959}}, {'year': {'$lt': 1970}}, {'genre': {'$in': ['comedy']}}]}\n"
     ]
    }
   ],
   "source": [
    "from self_query_summarization.query_constructor.chains import get_results_basic, SelfQueryParser\n",
    "from langchain.output_parsers import PydanticOutputParser\n",
    "\n",
    "query_text = \"Comic movie from the 60s about young people going to vacation on a barren island. One of them, a female artist, has dreams that depict ghastly murders\"\n",
    "\n",
    "metadata_attributes = \"\"\" \n",
    "{\n",
    "    \"attributes\": {\n",
    "        \"year\": {\n",
    "            \"type\": \"integer\",\n",
    "            \"description\": \"The year the movie was released\"\n",
    "        },\n",
    "        \"title\": {\n",
    "            \"type\": \"string\",\n",
    "            \"description\": \"The title of the movie\"\n",
    "        },\n",
    "        \"genre\": {\n",
    "            \"type\": \"string\",\n",
    "            \"description\": \"The genre of the movie in lowercase. It can contains multiple genres\"\"\n",
    "        },\n",
    "        \"director\": {\n",
    "            \"type\": \"string\",\n",
    "            \"description\": \"The name of the movie director. It can be multiple names\"\"\n",
    "        },\n",
    "        \"cast\": {\n",
    "            \"type\": \"string\",\n",
    "            \"description\": \"The name of the actors in the movie\"\"\n",
    "        },\n",
    "        \"country\": {\n",
    "            \"type\": \"string\",\n",
    "            \"description\": \"The country where the movie was produced\"\"\n",
    "        },\n",
    "    }\n",
    "}\n",
    "\"\"\"\n",
    "\n",
    "model_output = get_results_basic(\n",
    "    attributes = metadata_attributes, \n",
    "    query = query_text\n",
    ")\n",
    "parser = PydanticOutputParser(pydantic_object=SelfQueryParser)\n",
    "parser_output = parser.invoke(model_output)\n",
    "\n",
    "query_text = parser_output.query\n",
    "metadata_filter = parser_output.filter\n",
    "print(query_text)\n",
    "print(metadata_filter)"
   ]
  },
  {
   "cell_type": "code",
   "execution_count": 228,
   "metadata": {},
   "outputs": [
    {
     "name": "stdout",
     "output_type": "stream",
     "text": [
      "length of query_embeddings 384\n",
      "Goodbye Charlie\n",
      "Bob & Carol & Ted & Alice\n",
      "The Disorderly Orderly\n",
      "Everything's Ducky\n",
      "No My Darling Daughter\n"
     ]
    }
   ],
   "source": [
    "results = retriever.query(\n",
    "    query_text, \n",
    "    where = metadata_filter\n",
    ")\n",
    "show_results(results)"
   ]
  },
  {
   "cell_type": "code",
   "execution_count": null,
   "metadata": {},
   "outputs": [],
   "source": []
  }
 ],
 "metadata": {
  "kernelspec": {
   "display_name": ".venv",
   "language": "python",
   "name": "python3"
  },
  "language_info": {
   "codemirror_mode": {
    "name": "ipython",
    "version": 3
   },
   "file_extension": ".py",
   "mimetype": "text/x-python",
   "name": "python",
   "nbconvert_exporter": "python",
   "pygments_lexer": "ipython3",
   "version": "3.10.6"
  }
 },
 "nbformat": 4,
 "nbformat_minor": 2
}
